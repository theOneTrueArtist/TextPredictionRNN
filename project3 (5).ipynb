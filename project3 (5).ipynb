{
  "cells": [
    {
      "cell_type": "markdown",
      "metadata": {
        "id": "QpaAkWznJkg7"
      },
      "source": [
        "# Project 3\n",
        "# 2.1\n",
        "## Project setup:"
      ]
    },
    {
      "cell_type": "code",
      "execution_count": null,
      "metadata": {
        "id": "Y9WIO4rhO1nE",
        "colab": {
          "base_uri": "https://localhost:8080/"
        },
        "outputId": "dcfe5208-a249-47d5-9324-3c7db569980c"
      },
      "outputs": [
        {
          "output_type": "stream",
          "name": "stdout",
          "text": [
            "Training on device cuda.\n"
          ]
        }
      ],
      "source": [
        "from google.colab import drive\n",
        "\n",
        "import torch\n",
        "from torch import nn, optim\n",
        "import torch.nn.functional as F\n",
        "from datetime import datetime\n",
        "from torch.utils.data import DataLoader, TensorDataset\n",
        "from torchtext.data.utils import get_tokenizer\n",
        "from torchtext.vocab import build_vocab_from_iterator\n",
        "import pandas as pd\n",
        "\n",
        "from collections import defaultdict\n",
        "import numpy as np\n",
        "import torchtext\n",
        "import os\n",
        "import re\n",
        "import matplotlib.pyplot as plt\n",
        "\n",
        "\n",
        "torch.manual_seed(265)\n",
        "# We use torch.double to get the same results as Pytorch\n",
        "torch.set_default_dtype(torch.double)\n",
        "device = (torch.device('cuda')\n",
        "          if torch.cuda.is_available()\n",
        "          else torch.device('cpu'))\n",
        "print(f\"Training on device {device}.\")"
      ]
    },
    {
      "cell_type": "markdown",
      "source": [
        "## file handling setup"
      ],
      "metadata": {
        "id": "2LWRfHXmXRGa"
      }
    },
    {
      "cell_type": "code",
      "execution_count": null,
      "metadata": {
        "id": "aL6--mhvKNzb",
        "colab": {
          "base_uri": "https://localhost:8080/"
        },
        "outputId": "92d36ab2-990a-417f-ba69-69293f928912"
      },
      "outputs": [
        {
          "output_type": "stream",
          "name": "stdout",
          "text": [
            "Drive already mounted at /content/drive; to attempt to forcibly remount, call drive.mount(\"/content/drive\", force_remount=True).\n"
          ]
        }
      ],
      "source": [
        "drive.mount('/content/drive')\n",
        "\n",
        "base = '/content/drive/MyDrive/Colab Notebooks/project03'\n",
        "train_folder = f'{base}/data/train/'\n",
        "val_folder = f'{base}/data/val/'\n",
        "test_folder = f'{base}/data/test/'\n",
        "models_folder = f'{base}/models'\n",
        "models2_folder = f'{base}/models2'\n",
        "models3_folder = f'{base}/models3'\n",
        "datasets_folder = f'{base}/datasets'\n",
        "datasets2_folder = f'{base}/datasets2'\n",
        "datasets3_folder = f'{base}/datasets3'\n",
        "embeds_folder = f'{base}/embeds'"
      ]
    },
    {
      "cell_type": "markdown",
      "source": [
        "## reading in the train, val and test - data"
      ],
      "metadata": {
        "id": "PmTodx6yXn6r"
      }
    },
    {
      "cell_type": "code",
      "execution_count": null,
      "metadata": {
        "id": "X0e4FBBVPftc"
      },
      "outputs": [],
      "source": [
        "# tokenizer will split a long text into a list of english words\n",
        "TOKENIZER_EN = get_tokenizer('basic_english')\n",
        "# Minimum number of occurence of a word in the text to add it to the vocabulary\n",
        "MIN_FREQ = 100\n",
        "\n",
        "def read_files(datapath=train_folder):\n",
        "    \"\"\"\n",
        "    Return a list of strings, one for each line in each .txt files in 'datapath'\n",
        "    \"\"\"\n",
        "    # Find all txt files in directory\n",
        "    files = os.listdir(datapath)\n",
        "    files = [datapath + f for f in files if f.endswith(\".txt\")]\n",
        "\n",
        "    # Stores each line of each book in a list\n",
        "    lines = []\n",
        "    for f_name in files:\n",
        "        with open(f_name) as f:\n",
        "            lines += f.readlines()\n",
        "    return lines\n",
        "\n",
        "def tokenize(lines, tokenizer=TOKENIZER_EN):\n",
        "    \"\"\"\n",
        "    Tokenize the list of lines\n",
        "    \"\"\"\n",
        "    list_text = []\n",
        "    for line in lines:\n",
        "        list_text += tokenizer(line)\n",
        "    return list_text\n",
        "\n",
        "def yield_tokens(lines, tokenizer=TOKENIZER_EN):\n",
        "    \"\"\"\n",
        "    Yield tokens, ignoring names and digits to build vocabulary\n",
        "    \"\"\"\n",
        "    # Match any word containing digit\n",
        "    no_digits = '\\w*[0-9]+\\w*'\n",
        "    # Match word containing a uppercase\n",
        "    no_names = '\\w*[A-Z]+\\w*'\n",
        "    # Match any sequence containing more than one space\n",
        "    no_spaces = '\\s+'\n",
        "\n",
        "    for line in lines:\n",
        "        line = re.sub(no_digits, ' ', line)\n",
        "        line = re.sub(no_names, ' ', line)\n",
        "        line = re.sub(no_spaces, ' ', line)\n",
        "        yield tokenizer(line)\n",
        "\n",
        "def count_freqs(words, vocab):\n",
        "    \"\"\"\n",
        "    Count occurrences of each word in vocabulary in the data\n",
        "\n",
        "    Useful to get some insight on the data and to compute loss weights\n",
        "    \"\"\"\n",
        "    freqs = torch.zeros(len(vocab), dtype=torch.int)\n",
        "    for w in words:\n",
        "        freqs[vocab[w]] += 1\n",
        "    return freqs\n",
        "\n",
        "def create_vocabulary(lines, min_freq=MIN_FREQ):\n",
        "    \"\"\"\n",
        "    Create a vocabulary (list of known tokens) from a list of strings\n",
        "    \"\"\"\n",
        "    # vocab contains the vocabulary found in the data, associating an index to each word\n",
        "    vocab = build_vocab_from_iterator(yield_tokens(lines), min_freq=min_freq, specials=[\"<unk>\"])\n",
        "    # Since we removed all words with an uppercase when building the vocabulary, we skipped the word \"I\"\n",
        "    vocab.append_token(\"i\")\n",
        "    # Value of default index. This index will be returned when OOV (Out Of Vocabulary) token is queried.\n",
        "    vocab.set_default_index(vocab[\"<unk>\"])\n",
        "    return vocab"
      ]
    },
    {
      "cell_type": "markdown",
      "source": [
        "## tokonizing the data and creating a vocabulary"
      ],
      "metadata": {
        "id": "PwqHFAJPX_OT"
      }
    },
    {
      "cell_type": "code",
      "execution_count": null,
      "metadata": {
        "id": "pFymg4enQyb7",
        "colab": {
          "base_uri": "https://localhost:8080/",
          "height": 88
        },
        "outputId": "cc201f5e-06f0-464f-952e-d57c143559cf"
      },
      "outputs": [
        {
          "output_type": "stream",
          "name": "stdout",
          "text": [
            "Total number of words in the training dataset:      2684706\n",
            "Number of distinct words in the training dataset:   52105\n",
            "Number of distinct words kept (vocabulary size):    1880\n"
          ]
        },
        {
          "output_type": "execute_result",
          "data": {
            "text/plain": [
              "'\\nfreqs = count_freqs(words_train, vocab)\\n\\nprint(\"occurences:\\n\", [(f.item(), w) for (f, w)  in zip(freqs, vocab.lookup_tokens(range(VOCAB_SIZE)))])\\ndel freqs\\'\\n'"
            ],
            "application/vnd.google.colaboratory.intrinsic+json": {
              "type": "string"
            }
          },
          "metadata": {},
          "execution_count": 4
        }
      ],
      "source": [
        "# ----------------------- Tokenize texts -------------------------------\n",
        "# Get lists of strings, one for each line in each .txt files in 'datapath'\n",
        "lines_books_train = read_files(train_folder)\n",
        "lines_books_val = read_files(val_folder)\n",
        "lines_books_test = read_files(test_folder)\n",
        "\n",
        "# List of words contained in the dataset\n",
        "words_train = tokenize(lines_books_train)\n",
        "words_val = tokenize(lines_books_val)\n",
        "words_test = tokenize(lines_books_test)\n",
        "\n",
        "# ----------------------- Create vocabulary ----------------------------\n",
        "# Create vocabulary based on the words in the training dataset\n",
        "vocab = create_vocabulary(lines_books_train, min_freq=MIN_FREQ)\n",
        "\n",
        "del lines_books_train\n",
        "del lines_books_val\n",
        "del lines_books_test\n",
        "\n",
        "# ------------------------ Quick analysis ------------------------------\n",
        "VOCAB_SIZE = len(vocab)\n",
        "print(\"Total number of words in the training dataset:     \", len(words_train))\n",
        "print(\"Number of distinct words in the training dataset:  \", len(set(words_train)))\n",
        "print(\"Number of distinct words kept (vocabulary size):   \", VOCAB_SIZE)\n",
        "\n",
        "\"\"\"\n",
        "freqs = count_freqs(words_train, vocab)\n",
        "\n",
        "print(\"occurences:\\n\", [(f.item(), w) for (f, w)  in zip(freqs, vocab.lookup_tokens(range(VOCAB_SIZE)))])\n",
        "del freqs'\n",
        "\"\"\""
      ]
    },
    {
      "cell_type": "markdown",
      "source": [
        "## Preprocessing the data to fit the task"
      ],
      "metadata": {
        "id": "yX0D70JZYNav"
      }
    },
    {
      "cell_type": "code",
      "execution_count": null,
      "metadata": {
        "id": "Rem9N2x2RB43"
      },
      "outputs": [],
      "source": [
        "#------------------------ Define targets ------------------------------\n",
        "\n",
        "# context size for this task\n",
        "CONTEXT_SIZE = 2\n",
        "\n",
        "\n",
        "# ---------------- Define context / target pairs -----------------------\n",
        "def create_dataset(\n",
        "    text, vocab,\n",
        "    context_size=CONTEXT_SIZE, map_target=None\n",
        "):\n",
        "    \"\"\"\n",
        "    Create a pytorch dataset of context / target pairs from a text\n",
        "    \"\"\"\n",
        "\n",
        "    n_text = len(text)\n",
        "    n_vocab = len(vocab)\n",
        "\n",
        "    # Change labels if only a few target are kept, otherwise, each word is\n",
        "    # associated with its index in the vocabulary\n",
        "    if map_target is None:\n",
        "        map_target = {i:i for i in range(n_vocab)}\n",
        "\n",
        "    # Transform the text as a list of integers.\n",
        "    txt = [vocab[w] for w in text]\n",
        "\n",
        "    # Start constructing the context / target pairs...\n",
        "    contexts = []\n",
        "    targets = []\n",
        "    for i in range(context_size, n_text - context_size):\n",
        "\n",
        "        t = txt[i]\n",
        "\n",
        "        c = [txt[j] for j in range(i - context_size, i + context_size + 1) if j != i]\n",
        "\n",
        "        targets.append(t)\n",
        "        contexts.append(torch.tensor(c))\n",
        "\n",
        "\n",
        "\n",
        "    contexts = torch.stack(contexts)\n",
        "    targets = torch.tensor(targets)\n",
        "    # Create a pytorch dataset out of these context / target pairs\n",
        "    return TensorDataset(contexts, targets)\n",
        "\n",
        "try:\n",
        "  train_data = torch.load(f'{datasets_folder}/train_data.pt')\n",
        "  val_data = torch.load(f'{datasets_folder}/val_data.pt')\n",
        "  test_data = torch.load(f'{datasets_folder}/test_data.pt')\n",
        "except:\n",
        "  train_data = create_dataset(words_train, vocab)\n",
        "  val_data = create_dataset(words_val, vocab)\n",
        "  test_data = create_dataset(words_test, vocab)\n",
        "\n",
        "  #Save datasets\n",
        "  torch.save(train_data, f'{datasets_folder}/train_data.pt')\n",
        "  torch.save(val_data, f'{datasets_folder}/val_data.pt')\n",
        "  torch.save(test_data, f'{datasets_folder}/test_data.pt')\n",
        "\n"
      ]
    },
    {
      "cell_type": "markdown",
      "source": [
        "##Defining CBOW model, train function and evaluation function"
      ],
      "metadata": {
        "id": "4qtUheydYcpR"
      }
    },
    {
      "cell_type": "code",
      "execution_count": null,
      "metadata": {
        "id": "R6FfWkwC04lP"
      },
      "outputs": [],
      "source": [
        "class CBOW(nn.Module):\n",
        "    def __init__(self, vocab_size, embedding_dim, context_size):\n",
        "        super(CBOW, self).__init__()\n",
        "        self.embedding = nn.Embedding(vocab_size, embedding_dim)\n",
        "        self.linear = nn.Linear(context_size * 2 * embedding_dim, vocab_size)\n",
        "        self.train_losses = defaultdict(int)\n",
        "        self.val_losses = defaultdict(int)\n",
        "\n",
        "    def forward(self, context):\n",
        "        embeds = self.embedding(context) # 4 x 10\n",
        "        flatten = torch.flatten(embeds, 1)# 1x 40\n",
        "        output = self.linear(flatten)\n",
        "        return output"
      ]
    },
    {
      "cell_type": "code",
      "execution_count": null,
      "metadata": {
        "id": "nCa590xGGZrq"
      },
      "outputs": [],
      "source": [
        "def train(model, loss_fn,optimizer, num_epochs, train_loader, val_loader = None):\n",
        "    # train the model\n",
        "    model.train()\n",
        "    for epoch in range(num_epochs):\n",
        "        total_loss = 0\n",
        "        for context, target in train_loader:\n",
        "            context = context.to(device)\n",
        "            target = target.to(device)\n",
        "            # zero the gradients, perform a forward pass, calculate loss, and perform a backward pass\n",
        "            optimizer.zero_grad()\n",
        "            outputs = model(context)\n",
        "            loss = loss_fn(outputs, target)\n",
        "            loss.backward()\n",
        "            optimizer.step()\n",
        "\n",
        "            total_loss += loss.item()\n",
        "        print(f\"Epoch {epoch+1}/{num_epochs}, Train Loss: {total_loss/len(train_loader):.4f}\", end = \"\")\n",
        "        #Keep track of losses\n",
        "        model.train_losses[epoch] = total_loss/len(train_loader)\n",
        "        if type(val_loader) != type(None):\n",
        "            val_loss = 0\n",
        "            for context, target in val_loader:\n",
        "                #Move to GPU\n",
        "                context = context.to(device)\n",
        "                target = target.to(device)\n",
        "                # Sets the gradients of all optimized tensors to zero\n",
        "                optimizer.zero_grad()\n",
        "                with torch.no_grad():\n",
        "                    val_loss += loss_fn(model(context), target).item()\n",
        "            model.val_losses[epoch] = val_loss/len(val_loader)\n",
        "            print(f\", Val Loss: {val_loss/len(val_loader):.4f}\", end = \"\")\n",
        "        print()\n",
        "    return model"
      ]
    },
    {
      "cell_type": "code",
      "execution_count": null,
      "metadata": {
        "id": "qE1a5YJEYkxq"
      },
      "outputs": [],
      "source": [
        "def compute_accuracy(model, loader, device=None):\n",
        "    model.eval()\n",
        "\n",
        "    correct = 0\n",
        "    total = 0\n",
        "\n",
        "    with torch.no_grad():\n",
        "        for contexts, targets in loader:\n",
        "            contexts = contexts.to(device=device)\n",
        "            targets = targets.to(device=device)\n",
        "\n",
        "            outputs = model(contexts)\n",
        "            _, predicted = torch.max(outputs, dim=1)\n",
        "            total += len(targets)\n",
        "            correct += int((predicted == targets).sum())\n",
        "\n",
        "    acc =  correct / total\n",
        "    return acc"
      ]
    },
    {
      "cell_type": "markdown",
      "source": [
        "## training some models"
      ],
      "metadata": {
        "id": "FPxIIwtmYphm"
      }
    },
    {
      "cell_type": "code",
      "execution_count": null,
      "metadata": {
        "id": "0nIA4hxeGb-N"
      },
      "outputs": [],
      "source": [
        "num_epochs = 15\n",
        "learning_rate = [0.01, 0.1]\n",
        "weight_decay = [0, 0.001]\n",
        "embedding_dim = [8, 12]\n",
        "n_models = 2\n",
        "\n",
        "#Training models\n",
        "for i in range(n_models):\n",
        "  try:\n",
        "    torch.load(f\"{models_folder}/Model{i}.pt\")\n",
        "  except:\n",
        "    print(\"Now training model\", i+1)\n",
        "    model = CBOW(VOCAB_SIZE, embedding_dim[i], CONTEXT_SIZE)\n",
        "    model = model.to(device)\n",
        "\n",
        "    train_data_loader = torch.utils.data.DataLoader(train_data, batch_size=128, shuffle=True)\n",
        "    val_data_loader = torch.utils.data.DataLoader(val_data, batch_size=128, shuffle=True)\n",
        "    loss_fn = nn.CrossEntropyLoss()\n",
        "    optimizer = optim.Adam(model.parameters(), lr=learning_rate[i], weight_decay=weight_decay[i])\n",
        "    model = train(model, loss_fn,optimizer, num_epochs, train_data_loader,val_data_loader)\n",
        "    torch.save(model, f\"{models_folder}/Model{i}.pt\")"
      ]
    },
    {
      "cell_type": "markdown",
      "source": [
        "#plotting function"
      ],
      "metadata": {
        "id": "kvYVvjyBYs71"
      }
    },
    {
      "cell_type": "code",
      "execution_count": null,
      "metadata": {
        "id": "Ug9s2Wd03wOX"
      },
      "outputs": [],
      "source": [
        "def plotLoss(model, epochs):\n",
        "    plt.plot([x for x in range(1,epochs+1)],[model.train_losses[x] for x in model.train_losses])\n",
        "    plt.plot([x for x in range(1,epochs+1)], [model.val_losses[x] for x in model.val_losses])\n",
        "    plt.legend(['Train Loss', 'Validation Loss'])\n",
        "    plt.xlabel('Epochs')\n",
        "    plt.ylabel('Loss')\n",
        "    plt.show()"
      ]
    },
    {
      "cell_type": "markdown",
      "source": [
        "##Model Selection"
      ],
      "metadata": {
        "id": "v5vOyMeXYvhZ"
      }
    },
    {
      "cell_type": "code",
      "execution_count": null,
      "metadata": {
        "id": "J0qttmZ8YoGl",
        "colab": {
          "base_uri": "https://localhost:8080/"
        },
        "outputId": "92c6698c-b675-48d2-955a-e8246180fa2d"
      },
      "outputs": [
        {
          "output_type": "stream",
          "name": "stdout",
          "text": [
            "Accuracy for model0\n",
            "Train accuracy: 0.3042687791792162\n",
            "Validation accuracy: 0.3024110496345059\n",
            "------------------------------------------------\n",
            "Accuracy for model1\n",
            "Train accuracy: 0.22550063284491165\n",
            "Validation accuracy: 0.21814547069989096\n",
            "------------------------------------------------\n"
          ]
        }
      ],
      "source": [
        "#Find the best model based on validation accuracy\n",
        "best_model = None\n",
        "best_acc = 0\n",
        "train_data_loader = torch.utils.data.DataLoader(train_data, batch_size=128, shuffle=True)\n",
        "val_data_loader = torch.utils.data.DataLoader(val_data, batch_size=128, shuffle=True)\n",
        "\n",
        "for i in range(n_models):\n",
        "    model = torch.load(f\"{models_folder}/Model{i}.pt\").to('cpu')\n",
        "    with torch.no_grad():\n",
        "      print(f\"Accuracy for model{i}\")\n",
        "      model.eval()\n",
        "\n",
        "      #Train accuracy\n",
        "      acc = compute_accuracy(model, train_data_loader)\n",
        "      print(\"Train accuracy:\",acc)\n",
        "      #Validation accuracy\n",
        "      val_acc = compute_accuracy(model, val_data_loader)\n",
        "\n",
        "      print(\"Validation accuracy:\", val_acc)\n",
        "      if val_acc > best_acc:\n",
        "        best_acc = val_acc\n",
        "        best_model = model\n",
        "\n",
        "    print(\"------------------------------------------------\")"
      ]
    },
    {
      "cell_type": "code",
      "execution_count": null,
      "metadata": {
        "id": "nnKvhfz85ORJ",
        "colab": {
          "base_uri": "https://localhost:8080/",
          "height": 449
        },
        "outputId": "b1d32ec8-5764-4ec5-a65b-9a01967b1e45"
      },
      "outputs": [
        {
          "output_type": "display_data",
          "data": {
            "text/plain": [
              "<Figure size 640x480 with 1 Axes>"
            ],
            "image/png": "[encoded data removed]"
          },
          "metadata": {}
        }
      ],
      "source": [
        "plotLoss(best_model, num_epochs)"
      ]
    },
    {
      "cell_type": "markdown",
      "source": [
        "## Model Evaluation"
      ],
      "metadata": {
        "id": "ush0MW9MY3_l"
      }
    },
    {
      "cell_type": "markdown",
      "source": [
        "Test data"
      ],
      "metadata": {
        "id": "xwAgFOI27q5H"
      }
    },
    {
      "cell_type": "code",
      "source": [
        "test_data_loader = torch.utils.data.DataLoader(test_data, batch_size=128, shuffle=True)\n",
        "acc = compute_accuracy(best_model, test_data_loader)\n",
        "print(acc)"
      ],
      "metadata": {
        "colab": {
          "base_uri": "https://localhost:8080/"
        },
        "id": "_7SKBAsv7psh",
        "outputId": "93a0b0a5-f143-4c26-80cd-910ef93dc7b2"
      },
      "execution_count": null,
      "outputs": [
        {
          "output_type": "stream",
          "name": "stdout",
          "text": [
            "0.2630489415858491\n"
          ]
        }
      ]
    },
    {
      "cell_type": "markdown",
      "source": [
        "## Finding cosine similarities between some words"
      ],
      "metadata": {
        "id": "IG_Ewjy-Y8RU"
      }
    },
    {
      "cell_type": "code",
      "execution_count": null,
      "metadata": {
        "id": "6oFETIKwq_ei",
        "colab": {
          "base_uri": "https://localhost:8080/"
        },
        "outputId": "575c8697-5d9f-4bc4-a273-71209b643902"
      },
      "outputs": [
        {
          "output_type": "stream",
          "name": "stdout",
          "text": [
            "10 most similar words to 'eight':\n",
            "1. 'eight': similarity: 0.9999999999999999\n",
            "2. 'five': similarity: 0.9622441543750876\n",
            "3. 'three': similarity: 0.9560670397263983\n",
            "4. 'fifteen': similarity: 0.9518149588691368\n",
            "5. 'twelve': similarity: 0.9415286203789088\n",
            "6. 'six': similarity: 0.9365727320150589\n",
            "7. 'nine': similarity: 0.93243961698238\n",
            "8. 'forty': similarity: 0.9316293513423245\n",
            "9. 'two': similarity: 0.9284123612479194\n",
            "10. 'four': similarity: 0.918962586527932\n",
            "--------------------------------------------------\n",
            "10 most similar words to 'tall':\n",
            "1. 'tall': similarity: 1.0\n",
            "2. 'stout': similarity: 0.9432994842639455\n",
            "3. 'old': similarity: 0.9387193151148641\n",
            "4. 'infantry': similarity: 0.9266427561141106\n",
            "5. 'green': similarity: 0.926464877378054\n",
            "6. 'innocent': similarity: 0.9191892820583982\n",
            "7. 'honest': similarity: 0.918382106249603\n",
            "8. 'wide': similarity: 0.8945554597321282\n",
            "9. 'badly': similarity: 0.8903438060030664\n",
            "10. 'rich': similarity: 0.8898997158268243\n",
            "--------------------------------------------------\n",
            "10 most similar words to 'for':\n",
            "1. 'for': similarity: 1.0000000000000002\n",
            "2. 'towards': similarity: 0.940948202895677\n",
            "3. 'by': similarity: 0.8835551049637698\n",
            "4. 'after': similarity: 0.8558490233597897\n",
            "5. 'toward': similarity: 0.8492341756555496\n",
            "6. 'between': similarity: 0.8481125655859816\n",
            "7. 'in': similarity: 0.8280225229381908\n",
            "8. 'among': similarity: 0.8024452397057892\n",
            "9. 'from': similarity: 0.7983371810261383\n",
            "10. 'at': similarity: 0.7971615534523312\n",
            "--------------------------------------------------\n",
            "10 most similar words to ',':\n",
            "1. ',': similarity: 0.9999999999999999\n",
            "2. '!': similarity: 0.9074481240055657\n",
            "3. '—': similarity: 0.7716798863140921\n",
            "4. '.': similarity: 0.7515084900311809\n",
            "5. '?': similarity: 0.6914998462829237\n",
            "6. 'completely': similarity: 0.5992527898370436\n",
            "7. 'twice': similarity: 0.5846054157921118\n",
            "8. 'else': similarity: 0.5538987891429287\n",
            "9. 'sous': similarity: 0.5072474337611976\n",
            "10. 'beings': similarity: 0.5024975553206099\n",
            "--------------------------------------------------\n",
            "10 most similar words to 'where':\n",
            "1. 'where': similarity: 0.9999999999999999\n",
            "2. 'when': similarity: 0.880966901008203\n",
            "3. 'whilst': similarity: 0.8745736277520599\n",
            "4. 'until': similarity: 0.873526274442937\n",
            "5. 'whence': similarity: 0.8342923885005656\n",
            "6. 'to-morrow': similarity: 0.785547069492734\n",
            "7. 'whether': similarity: 0.7816561412431615\n",
            "8. 'since': similarity: 0.7733623729012927\n",
            "9. 'till': similarity: 0.7650918165777548\n",
            "10. 'that': similarity: 0.7570191961637971\n",
            "--------------------------------------------------\n"
          ]
        }
      ],
      "source": [
        "#Calculate cosine similarity between words\n",
        "def cosine_similarity(word1, word2, model, vocab):\n",
        "    word1_idx = vocab[word1]\n",
        "    word2_idx = vocab[word2]\n",
        "    word1_vec = model.embedding(torch.tensor([word1_idx]).to('cpu'))\n",
        "    word2_vec = model.embedding(torch.tensor([word2_idx]).to('cpu'))\n",
        "    return F.cosine_similarity(word1_vec, word2_vec).item()\n",
        "\n",
        "some_words = [\"eight\", \"tall\", \"for\", \",\", \"where\"]\n",
        "for word1 in some_words:\n",
        "  similar_words = []\n",
        "  for word2 in vocab.get_itos():\n",
        "    similar_words.append((cosine_similarity(word1, word2, best_model, vocab), word2))\n",
        "\n",
        "  similar_words.sort(reverse=True)\n",
        "  print(f\"10 most similar words to '{word1}':\")\n",
        "  for i in range(10):\n",
        "    print(f\"{i+1}. '{similar_words[i][1]}': similarity: {similar_words[i][0]}\")\n",
        "  print(\"--------------------------------------------------\")"
      ]
    },
    {
      "cell_type": "code",
      "execution_count": null,
      "metadata": {
        "id": "KPqVLTUxnpzJ"
      },
      "outputs": [],
      "source": [
        "#Exporting the best embedding\n",
        "model = best_model\n",
        "embeddings = model.embedding.weight.cpu().detach().numpy()\n",
        "embeds = pd.DataFrame(embeddings)\n",
        "embeds.to_csv(f'{embeds_folder}/embeds1.tsv', sep=\"\\t\", header=False, index=False)\n",
        "\n",
        "w = list(vocab.get_itos())\n",
        "w = pd.DataFrame(w)\n",
        "w.to_csv(f'{embeds_folder}/words1.tsv', sep=\"\\t\", header=False, index=False)"
      ]
    },
    {
      "cell_type": "markdown",
      "metadata": {
        "id": "IsxsZqSW13R0"
      },
      "source": [
        "#2.3"
      ]
    },
    {
      "cell_type": "markdown",
      "source": [
        "## Preprocessing the data"
      ],
      "metadata": {
        "id": "KJNkI6QCZFf6"
      }
    },
    {
      "cell_type": "code",
      "execution_count": null,
      "metadata": {
        "id": "trm7SYDIiUGb"
      },
      "outputs": [],
      "source": [
        "#------------------------ Define targets ------------------------------\n",
        "\n",
        "# context size for this task\n",
        "CONTEXT_SIZE = 12\n",
        "\n",
        "\n",
        "# ---------------- Define context / target pairs -----------------------\n",
        "def create_dataset(\n",
        "    text, vocab,\n",
        "    context_size=CONTEXT_SIZE\n",
        "):\n",
        "    \"\"\"\n",
        "    Create a pytorch dataset of context / target pairs from a text\n",
        "    \"\"\"\n",
        "\n",
        "    n_text = len(text)\n",
        "    n_vocab = len(vocab)\n",
        "\n",
        "\n",
        "    # Transform the text as a list of integers.\n",
        "    txt = [vocab[w] for w in text]\n",
        "\n",
        "    # Start constructing the context / target pairs...\n",
        "    contexts = []\n",
        "    targets = []\n",
        "    for i in range(context_size, n_text - context_size):\n",
        "        if txt[i] == 0:\n",
        "               continue\n",
        "        t = txt[i]\n",
        "\n",
        "        c = [txt[j] for j in range(i - context_size, i)]\n",
        "\n",
        "        targets.append(t)\n",
        "        contexts.append(torch.tensor(c))\n",
        "\n",
        "    contexts = torch.stack(contexts)\n",
        "    targets = torch.tensor(targets)\n",
        "    # Create a pytorch dataset out of these context / target pairs\n",
        "    return TensorDataset(contexts, targets)\n",
        "\n",
        "try:\n",
        "  train_data = torch.load(f'{datasets3_folder}/train_data.pt')\n",
        "  val_data = torch.load(f'{datasets3_folder}/val_data.pt')\n",
        "  test_data = torch.load(f'{datasets3_folder}/test_data.pt')\n",
        "except:\n",
        "  train_data = create_dataset(words_train, vocab)\n",
        "  val_data = create_dataset(words_val, vocab)\n",
        "  test_data = create_dataset(words_test, vocab)\n",
        "\n",
        "  #Save datasets\n",
        "  torch.save(train_data, f'{datasets3_folder}/train_data.pt')\n",
        "  torch.save(val_data, f'{datasets3_folder}/val_data.pt')\n",
        "  torch.save(test_data, f'{datasets3_folder}/test_data.pt')"
      ]
    },
    {
      "cell_type": "markdown",
      "source": [
        "## setting up the model"
      ],
      "metadata": {
        "id": "FqOaispjZJnP"
      }
    },
    {
      "cell_type": "code",
      "execution_count": null,
      "metadata": {
        "id": "JsjNBnFz19B2"
      },
      "outputs": [],
      "source": [
        "class LSTM(nn.Module):\n",
        "    def __init__(self, embedding_matrix, embedding_dim, hidden_dim, vocab_size):\n",
        "        super(LSTM, self).__init__()\n",
        "\n",
        "        # Define the embedding layer\n",
        "        self.embedding = nn.Embedding(vocab_size, embedding_dim)\n",
        "\n",
        "        # Load the pre-trained embedding matrix\n",
        "        self.embedding.weight.data.copy_(torch.from_numpy(embedding_matrix))\n",
        "\n",
        "        # Define the LSTM layer\n",
        "        self.lstm = nn.LSTM(embedding_dim, hidden_dim, batch_first=True)\n",
        "\n",
        "        # Define the linear layer to map from hidden state to output\n",
        "        self.fc1 = nn.Linear(hidden_dim, vocab_size)\n",
        "\n",
        "        self.train_losses = defaultdict(int)\n",
        "        self.val_losses = defaultdict(int)\n",
        "\n",
        "    def forward(self, x, h=None):\n",
        "        x = self.embedding(x)\n",
        "        output, (h_n, c_n) = self.lstm(x)\n",
        "        out = self.fc1(h_n[-1])\n",
        "        return out"
      ]
    },
    {
      "cell_type": "markdown",
      "source": [
        "## Model evaluation"
      ],
      "metadata": {
        "id": "Ez3fw3QZZQhU"
      }
    },
    {
      "cell_type": "code",
      "execution_count": null,
      "metadata": {
        "id": "yD-CEP1Y_Z_D"
      },
      "outputs": [],
      "source": [
        "num_epochs = 5\n",
        "learning_rate = [0.01, 0.1]\n",
        "weight_decay = [0, 0.001]\n",
        "n_models = 2\n",
        "\n",
        "#Training models\n",
        "for i in range(n_models):\n",
        "  try:\n",
        "    torch.load(f\"{models3_folder}/Model{i}.pt\")\n",
        "  except:\n",
        "    print(\"Now training model\", i+1)\n",
        "    model = LSTM(embeddings, embeddings.shape[1], CONTEXT_SIZE, VOCAB_SIZE)\n",
        "    model = model.to(device)\n",
        "\n",
        "    train_data_loader = torch.utils.data.DataLoader(train_data, batch_size=192, shuffle=True)\n",
        "    val_data_loader = torch.utils.data.DataLoader(val_data, batch_size=192, shuffle=True)\n",
        "    loss_fn = nn.CrossEntropyLoss()\n",
        "    optimizer = optim.Adam(model.parameters(), lr=learning_rate[i], weight_decay=weight_decay[i])\n",
        "    model = train(model, loss_fn,optimizer, num_epochs, train_data_loader,val_data_loader)\n",
        "    torch.save(model, f\"{models3_folder}/Model{i}.pt\")"
      ]
    },
    {
      "cell_type": "code",
      "execution_count": null,
      "metadata": {
        "id": "JicZQiQt5Tuc",
        "colab": {
          "base_uri": "https://localhost:8080/"
        },
        "outputId": "402f1b44-4874-4a97-f335-62049fa54b7b"
      },
      "outputs": [
        {
          "output_type": "stream",
          "name": "stdout",
          "text": [
            "Accuracy for model0\n",
            "Train accuracy: 0.19099148251207027\n",
            "Validation accuracy: 0.18063332459672615\n",
            "------------------------------------------------\n",
            "Accuracy for model1\n",
            "Train accuracy: 0.13232029237851217\n",
            "Validation accuracy: 0.12390097452881889\n",
            "------------------------------------------------\n"
          ]
        }
      ],
      "source": [
        "#Find the best model based on validation accuracy\n",
        "best_model = None\n",
        "best_acc = 0\n",
        "train_data_loader = torch.utils.data.DataLoader(train_data, batch_size=128, shuffle=True)\n",
        "val_data_loader = torch.utils.data.DataLoader(val_data, batch_size=128, shuffle=True)\n",
        "\n",
        "for i in range(n_models):\n",
        "    model = torch.load(f\"{models3_folder}/Model{i}.pt\").to('cpu')\n",
        "    with torch.no_grad():\n",
        "      print(f\"Accuracy for model{i}\")\n",
        "      model.eval()\n",
        "\n",
        "      #Train accuracy\n",
        "      acc = compute_accuracy(model, train_data_loader)\n",
        "      print(\"Train accuracy:\",acc)\n",
        "      #Validation accuracy\n",
        "      val_acc = compute_accuracy(model, val_data_loader)\n",
        "\n",
        "      print(\"Validation accuracy:\", val_acc)\n",
        "      if val_acc > best_acc:\n",
        "        best_acc = val_acc\n",
        "        best_model = model\n",
        "\n",
        "    print(\"------------------------------------------------\")"
      ]
    },
    {
      "cell_type": "code",
      "execution_count": null,
      "metadata": {
        "id": "dyo9nLfP4-EV",
        "colab": {
          "base_uri": "https://localhost:8080/",
          "height": 449
        },
        "outputId": "e4ee0d3c-b140-4fd6-e730-90db6a37d30d"
      },
      "outputs": [
        {
          "output_type": "display_data",
          "data": {
            "text/plain": [
              "<Figure size 640x480 with 1 Axes>"
            ],
            "image/png": "[encoded data removed]"
          },
          "metadata": {}
        }
      ],
      "source": [
        "plotLoss(best_model, num_epochs)"
      ]
    },
    {
      "cell_type": "markdown",
      "source": [
        "## Model selection"
      ],
      "metadata": {
        "id": "7mVGVizLZkNV"
      }
    },
    {
      "cell_type": "code",
      "source": [
        "test_data_loader = torch.utils.data.DataLoader(test_data, batch_size=128, shuffle=True)\n",
        "acc = compute_accuracy(best_model, test_data_loader)\n",
        "print(acc)"
      ],
      "metadata": {
        "colab": {
          "base_uri": "https://localhost:8080/"
        },
        "id": "Yhi2zTM_HWJq",
        "outputId": "0f11b45d-2990-4941-d8f2-221351b7c795"
      },
      "execution_count": null,
      "outputs": [
        {
          "output_type": "stream",
          "name": "stdout",
          "text": [
            "0.14605403999479807\n"
          ]
        }
      ]
    },
    {
      "cell_type": "markdown",
      "source": [
        "## Implementing beam search"
      ],
      "metadata": {
        "id": "p10WzAREZnGU"
      }
    },
    {
      "cell_type": "code",
      "execution_count": null,
      "metadata": {
        "id": "I-prWyEzw5wD"
      },
      "outputs": [],
      "source": [
        "def beam_search(model, context, beam_size, max_len):\n",
        "    # Set the model to evaluation mode\n",
        "    model.eval()\n",
        "\n",
        "    context = [vocab[w] for w in tokenize(context)]\n",
        "    paths = [(0, context)]\n",
        "    with torch.no_grad():\n",
        "\n",
        "        for i in range(max_len):\n",
        "            new_paths = []\n",
        "            for path in paths:\n",
        "                # Run the forward pass to get the initial logits\n",
        "                context = path[1]\n",
        "                logits = model(torch.tensor([context]))\n",
        "                predseq = F.softmax(logits, dim = 1)\n",
        "                probs, words = torch.topk(predseq, k = beam_size, dim = 1)\n",
        "\n",
        "                new_paths+= ([(path[0] + (torch.log(prob)).item(), context+ [word.item()]) for prob, word in zip(probs.squeeze(), words.squeeze())])\n",
        "            paths = sorted(new_paths, reverse = True)[:beam_size]\n",
        "\n",
        "        words = list(vocab.get_itos())\n",
        "        sentence = \" \".join(words[idx] for idx in paths[0][1])\n",
        "        return sentence\n"
      ]
    },
    {
      "cell_type": "markdown",
      "source": [
        "## Testing some words"
      ],
      "metadata": {
        "id": "wRk8ORvmZqfk"
      }
    },
    {
      "cell_type": "code",
      "execution_count": null,
      "metadata": {
        "id": "ElY9yFl_w-6M",
        "colab": {
          "base_uri": "https://localhost:8080/",
          "height": 36
        },
        "outputId": "6ea7edfe-1217-44d9-f342-6bfafcbbb37a"
      },
      "outputs": [
        {
          "output_type": "execute_result",
          "data": {
            "text/plain": [
              "'the man was a few minutes . it was a few minutes ,'"
            ],
            "application/vnd.google.colaboratory.intrinsic+json": {
              "type": "string"
            }
          },
          "metadata": {},
          "execution_count": 25
        }
      ],
      "source": [
        "beam_search(best_model, [\"The man was \"], 10, 10)"
      ]
    },
    {
      "cell_type": "code",
      "source": [
        "beam_search(best_model, [\"one two three\"], 10, 10)"
      ],
      "metadata": {
        "colab": {
          "base_uri": "https://localhost:8080/",
          "height": 36
        },
        "id": "2BbQuWdj9BWU",
        "outputId": "43cf7a61-04e5-4f63-834f-b5166c36894c"
      },
      "execution_count": null,
      "outputs": [
        {
          "output_type": "execute_result",
          "data": {
            "text/plain": [
              "'one two three o clock . then . . . . . .'"
            ],
            "application/vnd.google.colaboratory.intrinsic+json": {
              "type": "string"
            }
          },
          "metadata": {},
          "execution_count": 26
        }
      ]
    },
    {
      "cell_type": "code",
      "source": [
        "beam_search(best_model, [\"old man\"], 10 ,10)"
      ],
      "metadata": {
        "colab": {
          "base_uri": "https://localhost:8080/",
          "height": 36
        },
        "id": "i93PmYYq-pR_",
        "outputId": "ac537623-543d-4e23-db89-e179dab1e632"
      },
      "execution_count": null,
      "outputs": [
        {
          "output_type": "execute_result",
          "data": {
            "text/plain": [
              "'old man went north . then , the king s son ,'"
            ],
            "application/vnd.google.colaboratory.intrinsic+json": {
              "type": "string"
            }
          },
          "metadata": {},
          "execution_count": 27
        }
      ]
    },
    {
      "cell_type": "code",
      "source": [
        "beam_search(best_model, [\"one day, they all\"], 10 ,15)"
      ],
      "metadata": {
        "colab": {
          "base_uri": "https://localhost:8080/",
          "height": 36
        },
        "id": "3oLv4_fKBUsZ",
        "outputId": "946af56f-9355-4cc4-f1c7-98269f515ac4"
      },
      "execution_count": null,
      "outputs": [
        {
          "output_type": "execute_result",
          "data": {
            "text/plain": [
              "'one day , they all went to the door , and the king was a few minutes , and the'"
            ],
            "application/vnd.google.colaboratory.intrinsic+json": {
              "type": "string"
            }
          },
          "metadata": {},
          "execution_count": 28
        }
      ]
    },
    {
      "cell_type": "code",
      "source": [
        "beam_search(best_model, [\"ask her to marry\"], 30 ,5)"
      ],
      "metadata": {
        "colab": {
          "base_uri": "https://localhost:8080/",
          "height": 36
        },
        "id": "xdgnfpC0BYnF",
        "outputId": "51364dba-e3f7-42f9-ce92-d5efb234661e"
      },
      "execution_count": null,
      "outputs": [
        {
          "output_type": "execute_result",
          "data": {
            "text/plain": [
              "'ask her to marry me , said he ,'"
            ],
            "application/vnd.google.colaboratory.intrinsic+json": {
              "type": "string"
            }
          },
          "metadata": {},
          "execution_count": 29
        }
      ]
    },
    {
      "cell_type": "code",
      "source": [
        "beam_search(best_model, [\"what is going on\"], 20, 20)"
      ],
      "metadata": {
        "id": "7PPmdPy_kX9i"
      },
      "execution_count": null,
      "outputs": []
    },
    {
      "cell_type": "markdown",
      "source": [
        "#2.2"
      ],
      "metadata": {
        "id": "yjTS5f3oKVwa"
      }
    },
    {
      "cell_type": "markdown",
      "source": [
        "## Pre Processing the data to fit the task"
      ],
      "metadata": {
        "id": "sEbnWr6wZtQI"
      }
    },
    {
      "cell_type": "code",
      "source": [
        "#------------------------ Define targets ------------------------------\n",
        "\n",
        "# context size for this task\n",
        "CONTEXT_SIZE = 2\n",
        "\n",
        "map_targets = {\"be\":0, \"am\":1, \"are\":2, \"is\":3, \"was\":4, \"were\":5, \"been\":6, \"being\": 7, \"have\":8, \"has\":9, \"had\":10, \"having\":11}\n",
        "# ---------------- Define context / target pairs -----------------------\n",
        "def create_dataset(\n",
        "    text, vocab,\n",
        "    context_size=CONTEXT_SIZE,\n",
        "    map_targets = map_targets\n",
        "):\n",
        "    \"\"\"\n",
        "    Create a pytorch dataset of context / target pairs from a text\n",
        "    \"\"\"\n",
        "\n",
        "    n_text = len(text)\n",
        "    n_vocab = len(vocab)\n",
        "\n",
        "\n",
        "    # Transform the text as a list of integers.\n",
        "    txt = [vocab[w] for w in text]\n",
        "\n",
        "    # Start constructing the context / target pairs...\n",
        "    contexts = []\n",
        "    targets = []\n",
        "    for i in range(context_size, n_text - context_size):\n",
        "        if not text[i] in map_targets:\n",
        "               continue\n",
        "        t = map_targets[text[i]]\n",
        "\n",
        "        c = [txt[j] for j in range(i - context_size, i + context_size + 1) if j != i]\n",
        "\n",
        "        targets.append(t)\n",
        "        contexts.append(torch.tensor(c))\n",
        "\n",
        "\n",
        "\n",
        "    contexts = torch.stack(contexts)\n",
        "    targets = torch.tensor(targets)\n",
        "    # Create a pytorch dataset out of these context / target pairs\n",
        "    return TensorDataset(contexts, targets)\n",
        "\n",
        "try:\n",
        "  train_data = torch.load(f'{datasets2_folder}/train_data.pt')\n",
        "  val_data = torch.load(f'{datasets2_folder}/val_data.pt')\n",
        "  test_data = torch.load(f'{datasets2_folder}/test_data.pt')\n",
        "except:\n",
        "  train_data = create_dataset(words_train, vocab, CONTEXT_SIZE, map_targets)\n",
        "  val_data = create_dataset(words_val, vocab, CONTEXT_SIZE, map_targets)\n",
        "  test_data = create_dataset(words_test, vocab, CONTEXT_SIZE, map_targets)\n",
        "\n",
        "  #Save datasets\n",
        "  torch.save(train_data, f'{datasets2_folder}/train_data.pt')\n",
        "  torch.save(val_data, f'{datasets2_folder}/val_data.pt')\n",
        "  torch.save(test_data, f'{datasets2_folder}/test_data.pt')"
      ],
      "metadata": {
        "id": "VNmNfbTHKuqL"
      },
      "execution_count": null,
      "outputs": []
    },
    {
      "cell_type": "markdown",
      "source": [
        "## Setting up models"
      ],
      "metadata": {
        "id": "B6yhk4MYZ1-F"
      }
    },
    {
      "cell_type": "code",
      "source": [
        "class RNN(nn.Module):\n",
        "    def __init__(self, embedding_matrix, embedding_dim, context_size, vocab_size):\n",
        "\n",
        "        super(RNN, self).__init__()\n",
        "        self.embedding = nn.Embedding(vocab_size, embedding_dim)\n",
        "        self.embedding.weight.data.copy_(torch.from_numpy(embedding_matrix))\n",
        "        self.linear = nn.Linear(context_size * 2 * embedding_dim, 12)\n",
        "        self.train_losses = defaultdict(int)\n",
        "        self.val_losses = defaultdict(int)\n",
        "\n",
        "\n",
        "    def forward(self, context):\n",
        "        embeds = self.embedding(context) # 4 x 10\n",
        "        flatten = torch.flatten(embeds, 1)# 1x 40\n",
        "        output = self.linear(flatten)\n",
        "        return output"
      ],
      "metadata": {
        "id": "6KBslQ68NLgs"
      },
      "execution_count": null,
      "outputs": []
    },
    {
      "cell_type": "code",
      "source": [
        "class MLP(nn.Module):\n",
        "    def __init__(self, embedding_matrix, embedding_dim, context_size, vocab_size):\n",
        "        super(MLP, self).__init__()\n",
        "        self.embedding = nn.Embedding(vocab_size, embedding_dim)\n",
        "        self.embedding.weight.data.copy_(torch.from_numpy(embedding_matrix))\n",
        "        self.fc1 = nn.Linear(embedding_dim, context_size)\n",
        "        self.relu = nn.ReLU()\n",
        "        self.fc2 = nn.Linear(context_size, 12)\n",
        "        self.train_losses = defaultdict(int)\n",
        "        self.val_losses = defaultdict(int)\n",
        "\n",
        "    def forward(self, x):\n",
        "        x = self.embedding(x)\n",
        "        x = x.mean(dim=1) # Average the embeddings across the sequence length\n",
        "        x = self.fc1(x)\n",
        "        x = self.relu(x)\n",
        "        x = self.fc2(x)\n",
        "        return x"
      ],
      "metadata": {
        "id": "sFPscTTUOYii"
      },
      "execution_count": null,
      "outputs": []
    },
    {
      "cell_type": "markdown",
      "source": [
        "## Model evaluation for the RNN architecture"
      ],
      "metadata": {
        "id": "28i14EsOZ684"
      }
    },
    {
      "cell_type": "code",
      "source": [
        "num_epochs = 5\n",
        "learning_rate = [0.01, 0.1]\n",
        "weight_decay = [0, 0.001]\n",
        "n_models = 2\n",
        "\n",
        "#Training models\n",
        "for i in range(n_models):\n",
        "  try:\n",
        "    torch.load(f\"{models2_folder}/ModelRNN{i}.pt\")\n",
        "  except:\n",
        "    print(\"Now training modelRNN\", i+1)\n",
        "    model = RNN(embeddings, embeddings.shape[1], CONTEXT_SIZE, VOCAB_SIZE)\n",
        "    model = model.to(device)\n",
        "\n",
        "    train_data_loader = torch.utils.data.DataLoader(train_data, batch_size=192, shuffle=True)\n",
        "    val_data_loader = torch.utils.data.DataLoader(val_data, batch_size=192, shuffle=True)\n",
        "    loss_fn = nn.CrossEntropyLoss()\n",
        "    optimizer = optim.Adam(model.parameters(), lr=learning_rate[i], weight_decay=weight_decay[i])\n",
        "    model = train(model, loss_fn,optimizer, num_epochs, train_data_loader,val_data_loader)\n",
        "    torch.save(model, f\"{models2_folder}/ModelRNN{i}.pt\")"
      ],
      "metadata": {
        "colab": {
          "base_uri": "https://localhost:8080/"
        },
        "id": "rxwSx9D5Pp_T",
        "outputId": "57dec1c2-ea67-4424-c62a-fd0ccabec138"
      },
      "execution_count": null,
      "outputs": [
        {
          "output_type": "stream",
          "name": "stdout",
          "text": [
            "Now training modelRNN 1\n",
            "Epoch 1/5, Train Loss: 1.2029, Val Loss: 1.0722\n",
            "Epoch 2/5, Train Loss: 1.0265, Val Loss: 1.0454\n",
            "Epoch 3/5, Train Loss: 1.0027, Val Loss: 1.0310\n",
            "Epoch 4/5, Train Loss: 0.9911, Val Loss: 1.0511\n",
            "Epoch 5/5, Train Loss: 0.9854, Val Loss: 1.0437\n",
            "Now training modelRNN 2\n",
            "Epoch 1/5, Train Loss: 1.3017, Val Loss: 1.2059\n",
            "Epoch 2/5, Train Loss: 1.2811, Val Loss: 1.2630\n",
            "Epoch 3/5, Train Loss: 1.2810, Val Loss: 1.2360\n",
            "Epoch 4/5, Train Loss: 1.2805, Val Loss: 1.2323\n",
            "Epoch 5/5, Train Loss: 1.2784, Val Loss: 1.2568\n"
          ]
        }
      ]
    },
    {
      "cell_type": "code",
      "source": [
        "#Find the best model based on validation accuracy\n",
        "best_RNNmodel = None\n",
        "best_acc = 0\n",
        "train_data_loader = torch.utils.data.DataLoader(train_data, batch_size=128, shuffle=True)\n",
        "val_data_loader = torch.utils.data.DataLoader(val_data, batch_size=128, shuffle=True)\n",
        "\n",
        "for i in range(n_models):\n",
        "    model = torch.load(f\"{models2_folder}/ModelRNN{i}.pt\").to('cpu')\n",
        "    with torch.no_grad():\n",
        "      print(f\"Accuracy for model{i}\")\n",
        "      model.eval()\n",
        "\n",
        "      #Train accuracy\n",
        "      acc = compute_accuracy(model, train_data_loader)\n",
        "      print(\"Train accuracy:\",acc)\n",
        "      #Validation accuracy\n",
        "      val_acc = compute_accuracy(model, val_data_loader)\n",
        "\n",
        "      print(\"Validation accuracy:\", val_acc)\n",
        "      if val_acc > best_acc:\n",
        "        best_acc = val_acc\n",
        "        best_RNNmodel = model\n",
        "\n",
        "    print(\"------------------------------------------------\")"
      ],
      "metadata": {
        "colab": {
          "base_uri": "https://localhost:8080/"
        },
        "id": "gTJcHJiJToMO",
        "outputId": "d4197014-3e1c-4916-d11f-1827e26331f9"
      },
      "execution_count": null,
      "outputs": [
        {
          "output_type": "stream",
          "name": "stdout",
          "text": [
            "Accuracy for model0\n",
            "Train accuracy: 0.6370987898186744\n",
            "Validation accuracy: 0.6034749034749035\n",
            "------------------------------------------------\n",
            "Accuracy for model1\n",
            "Train accuracy: 0.5293273455829591\n",
            "Validation accuracy: 0.5339768339768339\n",
            "------------------------------------------------\n"
          ]
        }
      ]
    },
    {
      "cell_type": "code",
      "source": [
        "plotLoss(best_RNNmodel, num_epochs)"
      ],
      "metadata": {
        "colab": {
          "base_uri": "https://localhost:8080/",
          "height": 449
        },
        "id": "zC3iip5WUB_n",
        "outputId": "d65db541-6314-4eec-f034-96e61240ba62"
      },
      "execution_count": null,
      "outputs": [
        {
          "output_type": "display_data",
          "data": {
            "text/plain": [
              "<Figure size 640x480 with 1 Axes>"
            ],
            "image/png": "[encoded data removed]"
          },
          "metadata": {}
        }
      ]
    },
    {
      "cell_type": "markdown",
      "source": [
        "## Model evaluation for the MLP architecture"
      ],
      "metadata": {
        "id": "Kgu1wndaaJlD"
      }
    },
    {
      "cell_type": "code",
      "source": [
        "test_data_loader = torch.utils.data.DataLoader(test_data, batch_size=128, shuffle=True)\n",
        "acc = compute_accuracy(best_RNNmodel, test_data_loader)\n",
        "print(acc)"
      ],
      "metadata": {
        "colab": {
          "base_uri": "https://localhost:8080/"
        },
        "id": "UKRrsdvHUMDb",
        "outputId": "8f62c96b-eb77-4f9d-e814-27f0793b8931"
      },
      "execution_count": null,
      "outputs": [
        {
          "output_type": "stream",
          "name": "stdout",
          "text": [
            "0.4738719832109129\n"
          ]
        }
      ]
    },
    {
      "cell_type": "code",
      "source": [
        "num_epochs = 5\n",
        "learning_rate = [0.01, 0.1]\n",
        "weight_decay = [0, 0.001]\n",
        "n_models = 2\n",
        "\n",
        "#Training models\n",
        "for i in range(n_models):\n",
        "  try:\n",
        "    torch.load(f\"{models2_folder}/ModelMLP{i}.pt\")\n",
        "  except:\n",
        "    print(\"Now training modelMLP\", i+1)\n",
        "    model = MLP(embeddings, embeddings.shape[1], CONTEXT_SIZE, VOCAB_SIZE)\n",
        "    model = model.to(device)\n",
        "\n",
        "    train_data_loader = torch.utils.data.DataLoader(train_data, batch_size=192, shuffle=True)\n",
        "    val_data_loader = torch.utils.data.DataLoader(val_data, batch_size=192, shuffle=True)\n",
        "    loss_fn = nn.CrossEntropyLoss()\n",
        "    optimizer = optim.Adam(model.parameters(), lr=learning_rate[i], weight_decay=weight_decay[i])\n",
        "    model = train(model, loss_fn,optimizer, num_epochs, train_data_loader,val_data_loader)\n",
        "    torch.save(model, f\"{models2_folder}/ModelMLP{i}.pt\")"
      ],
      "metadata": {
        "colab": {
          "base_uri": "https://localhost:8080/"
        },
        "id": "oiz-g-t9Ueng",
        "outputId": "4eca1934-647f-4c29-a5a3-3e1308436e88"
      },
      "execution_count": null,
      "outputs": [
        {
          "output_type": "stream",
          "name": "stdout",
          "text": [
            "Now training modelMLP 1\n",
            "Epoch 1/5, Train Loss: 1.7254, Val Loss: 1.5503\n",
            "Epoch 2/5, Train Loss: 1.5163, Val Loss: 1.4953\n",
            "Epoch 3/5, Train Loss: 1.4744, Val Loss: 1.4764\n",
            "Epoch 4/5, Train Loss: 1.4632, Val Loss: 1.4666\n",
            "Epoch 5/5, Train Loss: 1.4576, Val Loss: 1.4490\n",
            "Now training modelMLP 2\n",
            "Epoch 1/5, Train Loss: 1.7156, Val Loss: 1.6627\n",
            "Epoch 2/5, Train Loss: 1.6419, Val Loss: 1.5894\n",
            "Epoch 3/5, Train Loss: 1.6261, Val Loss: 1.5849\n",
            "Epoch 4/5, Train Loss: 1.6226, Val Loss: 1.5972\n",
            "Epoch 5/5, Train Loss: 1.6235, Val Loss: 1.5721\n"
          ]
        }
      ]
    },
    {
      "cell_type": "code",
      "source": [
        "#Find the best model based on validation accuracy\n",
        "best_MLPmodel = None\n",
        "best_acc = 0\n",
        "train_data_loader = torch.utils.data.DataLoader(train_data, batch_size=128, shuffle=True)\n",
        "val_data_loader = torch.utils.data.DataLoader(val_data, batch_size=128, shuffle=True)\n",
        "\n",
        "for i in range(n_models):\n",
        "    model = torch.load(f\"{models2_folder}/ModelMLP{i}.pt\").to('cpu')\n",
        "    with torch.no_grad():\n",
        "      print(f\"Accuracy for model{i}\")\n",
        "      model.eval()\n",
        "\n",
        "      #Train accuracy\n",
        "      acc = compute_accuracy(model, train_data_loader)\n",
        "      print(\"Train accuracy:\",acc)\n",
        "      #Validation accuracy\n",
        "      val_acc = compute_accuracy(model, val_data_loader)\n",
        "\n",
        "      print(\"Validation accuracy:\", val_acc)\n",
        "      if val_acc > best_acc:\n",
        "        best_acc = val_acc\n",
        "        best_MLPmodel = model\n",
        "\n",
        "    print(\"------------------------------------------------\")"
      ],
      "metadata": {
        "colab": {
          "base_uri": "https://localhost:8080/"
        },
        "id": "2OOMTaTOUh16",
        "outputId": "64ce0dba-142e-4411-bef1-8bb8fbabf81c"
      },
      "execution_count": null,
      "outputs": [
        {
          "output_type": "stream",
          "name": "stdout",
          "text": [
            "Accuracy for model0\n",
            "Train accuracy: 0.4919334682458418\n",
            "Validation accuracy: 0.5057915057915058\n",
            "------------------------------------------------\n",
            "Accuracy for model1\n",
            "Train accuracy: 0.4212656513291032\n",
            "Validation accuracy: 0.4640926640926641\n",
            "------------------------------------------------\n"
          ]
        }
      ]
    },
    {
      "cell_type": "code",
      "source": [
        "plotLoss(best_MLPmodel, num_epochs)"
      ],
      "metadata": {
        "colab": {
          "base_uri": "https://localhost:8080/",
          "height": 449
        },
        "id": "QibemUA7UmoY",
        "outputId": "5b8e73ee-0073-4c3c-940c-de7a0fe2747f"
      },
      "execution_count": null,
      "outputs": [
        {
          "output_type": "display_data",
          "data": {
            "text/plain": [
              "<Figure size 640x480 with 1 Axes>"
            ],
            "image/png": "[encoded data removed]"
          },
          "metadata": {}
        }
      ]
    },
    {
      "cell_type": "markdown",
      "source": [
        "## Model evaluation"
      ],
      "metadata": {
        "id": "iudF26VhaODt"
      }
    },
    {
      "cell_type": "code",
      "source": [
        "test_data_loader = torch.utils.data.DataLoader(test_data, batch_size=128, shuffle=True)\n",
        "acc = compute_accuracy(best_MLPmodel, test_data_loader)\n",
        "print(acc)"
      ],
      "metadata": {
        "colab": {
          "base_uri": "https://localhost:8080/"
        },
        "id": "2m2wzRsSUnXc",
        "outputId": "e999fbac-0f8e-4f1e-b854-3997b446e56e"
      },
      "execution_count": null,
      "outputs": [
        {
          "output_type": "stream",
          "name": "stdout",
          "text": [
            "0.45078698845750265\n"
          ]
        }
      ]
    }
  ],
  "metadata": {
    "accelerator": "GPU",
    "colab": {
      "provenance": []
    },
    "gpuClass": "standard",
    "kernelspec": {
      "display_name": "Python 3",
      "name": "python3"
    },
    "language_info": {
      "name": "python"
    }
  },
  "nbformat": 4,
  "nbformat_minor": 0
}